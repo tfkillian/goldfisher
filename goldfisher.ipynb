{
 "cells": [
  {
   "cell_type": "markdown",
   "metadata": {},
   "source": [
    "# goldfisher"
   ]
  },
  {
   "cell_type": "code",
   "execution_count": 55,
   "metadata": {},
   "outputs": [],
   "source": [
    "import itertools\n",
    "import random\n",
    "import math\n",
    "import numpy as np"
   ]
  },
  {
   "cell_type": "code",
   "execution_count": 57,
   "metadata": {},
   "outputs": [],
   "source": [
    "## mono green control\n",
    "# land = (\"Forest\",) * 18\n",
    "# fog = (\"Fog\",) * 2\n",
    "# root = (\"Root Maze\",) * 2\n",
    "# utsp = (\"Utopia Sprawl\",) * 4\n",
    "# elmy = (\"Elvish Mystic\",) * 4\n",
    "# arel = (\"Arbor Elf\",) * 4\n",
    "# oveg = (\"Overgrowth\",) * 4\n",
    "# etew = (\"Eternal Witness\",) * 3\n",
    "# stse = (\"Stampeding Serow\",) * 2\n",
    "# crmo = (\"Creeping Mold\",) * 4\n",
    "# brcr = (\"Bramble Crush\",) * 4\n",
    "# plun = (\"Plow Under\",) * 3\n",
    "# acsl = (\"Acidic Slime\",) * 2\n",
    "# prcm = (\"Primal Command\",) * 4\n",
    "\n",
    "### maybe instead we could have a text file and the function would read it..."
   ]
  },
  {
   "cell_type": "code",
   "execution_count": 58,
   "metadata": {},
   "outputs": [],
   "source": [
    "\n",
    "\n",
    "def createDeck():\n",
    "    \"\"\"\n",
    "    This creates a single list containing tuples which have the values\n",
    "    \"\"\"\n",
    "    deck = [\"Forest\",\"Forest\",\"Forest\",\"Forest\",\"Forest\",\"Forest\",\"Forest\",\"Forest\",\"Forest\",\"Forest\",\"Forest\",\n",
    "            \"Forest\",\"Forest\",\"Forest\",\"Forest\",\"Forest\",\"Forest\",\"Forest\",\"Fog\",\"Fog\",\"Root Maze\",\n",
    "            \"Utopia Sprawl\",\"Utopia Sprawl\",\"Utopia Sprawl\",\"Utopia Sprawl\",\"Elvish Mystic\",\"Elvish Mystic\",\n",
    "            \"Elvish Mystic\",\"Elvish Mystic\",\"Arbor Elf\",\"Arbor Elf\",\"Arbor Elf\",\"Arbor Elf\",\"Overgrowth\",\n",
    "           \"Overgrowth\",\"Overgrowth\",\"Overgrowth\",\"Eternal Witness\",\"Eternal Witness\",\"Eternal Witness\",\n",
    "           \"Stampeding Serow\",\"Stampeding Serow\",\"Creeping Mold\",\"Creeping Mold\",\"Creeping Mold\",\"Creeping Mold\",\n",
    "           \"Bramble Crush\",\"Bramble Crush\",\"Bramble Crush\",\"Bramble Crush\",\"Plow Under\",\"Plow Under\",\"Plow Under\",\n",
    "           \"Acidic Slime\",\"Acidic Slime\",\"Primal Command\",\"Primal Command\",\"Primal Command\",\"Primal Command\",]\n",
    "    random.shuffle(deck)\n",
    "    return deck\n",
    "\n"
   ]
  },
  {
   "cell_type": "code",
   "execution_count": 59,
   "metadata": {},
   "outputs": [],
   "source": [
    "def dealHand(deck):\n",
    "    \"\"\"\n",
    "    draws 7 cards and modifies the deck.\n",
    "    I was told to instead use indexing to draw, instead of modifying the list\n",
    "    \"\"\"\n",
    "    hand = [] \n",
    "    for i in range(7): \n",
    "        hand.append(deck.pop())\n",
    "    return hand"
   ]
  },
  {
   "cell_type": "code",
   "execution_count": 60,
   "metadata": {},
   "outputs": [],
   "source": [
    "def dealDraw(deck):\n",
    "    \"\"\"\n",
    "    draws 5 cards and modifies the deck.\n",
    "    I was told to instead use indexing to draw, instead of modifying the list\n",
    "    \"\"\"\n",
    "    hand = [] \n",
    "    for i in range(5): \n",
    "        hand.append(deck.pop())\n",
    "    return hand"
   ]
  },
  {
   "cell_type": "code",
   "execution_count": 61,
   "metadata": {},
   "outputs": [],
   "source": [
    "theDeck = createDeck()\n",
    "theHand = dealHand(theDeck)\n",
    "theDraw = dealDraw(theDeck)\n",
    "# print(len(theDeck))"
   ]
  },
  {
   "cell_type": "code",
   "execution_count": 62,
   "metadata": {},
   "outputs": [
    {
     "name": "stdout",
     "output_type": "stream",
     "text": [
      "['Elvish Mystic', 'Forest', 'Utopia Sprawl', 'Root Maze', 'Forest', 'Eternal Witness', 'Forest']\n"
     ]
    }
   ],
   "source": [
    "print(theHand)"
   ]
  },
  {
   "cell_type": "code",
   "execution_count": 63,
   "metadata": {},
   "outputs": [
    {
     "name": "stdout",
     "output_type": "stream",
     "text": [
      "['Acidic Slime', 'Arbor Elf', 'Primal Command', 'Utopia Sprawl', 'Primal Command']\n"
     ]
    }
   ],
   "source": [
    "print(theDraw)"
   ]
  },
  {
   "cell_type": "code",
   "execution_count": null,
   "metadata": {},
   "outputs": [],
   "source": []
  }
 ],
 "metadata": {
  "kernelspec": {
   "display_name": "Python 3",
   "language": "python",
   "name": "python3"
  },
  "language_info": {
   "codemirror_mode": {
    "name": "ipython",
    "version": 3
   },
   "file_extension": ".py",
   "mimetype": "text/x-python",
   "name": "python",
   "nbconvert_exporter": "python",
   "pygments_lexer": "ipython3",
   "version": "3.6.9"
  }
 },
 "nbformat": 4,
 "nbformat_minor": 2
}
