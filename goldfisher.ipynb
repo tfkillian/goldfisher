{
 "cells": [
  {
   "cell_type": "markdown",
   "metadata": {},
   "source": [
    "# goldfisher"
   ]
  },
  {
   "cell_type": "code",
   "execution_count": 55,
   "metadata": {},
   "outputs": [],
   "source": [
    "import itertools\n",
    "import random\n",
    "import math\n",
    "import numpy as np"
   ]
  },
  {
   "cell_type": "code",
   "execution_count": 115,
   "metadata": {},
   "outputs": [],
   "source": [
    "## mono green control\n",
    "current_file = \"mgc\""
   ]
  },
  {
   "cell_type": "code",
   "execution_count": 109,
   "metadata": {},
   "outputs": [],
   "source": [
    "def createDeck():\n",
    "    \"\"\"\n",
    "    This creates a single list containing tuples which have the values\n",
    "    \"\"\"\n",
    "    deck = []\n",
    "    my_file = open(current_file)\n",
    "    all_the_lines = my_file.readlines()\n",
    "    deck = []\n",
    "    for i in all_the_lines:\n",
    "        deck.append(i.strip())\n",
    "    my_file.close()\n",
    "    random.shuffle(deck)\n",
    "    return deck\n",
    "\n"
   ]
  },
  {
   "cell_type": "code",
   "execution_count": 110,
   "metadata": {},
   "outputs": [],
   "source": [
    "def dealHand(deck):\n",
    "    \"\"\"\n",
    "    draws 7 cards and modifies the deck.\n",
    "    I was told to instead use indexing to draw, instead of modifying the list\n",
    "    \"\"\"\n",
    "    hand = [] \n",
    "    for i in range(7): \n",
    "        hand.append(deck.pop())\n",
    "    return hand"
   ]
  },
  {
   "cell_type": "code",
   "execution_count": 120,
   "metadata": {},
   "outputs": [],
   "source": [
    "def dealDraw(deck):\n",
    "    \"\"\"\n",
    "    draws 5 cards and modifies the deck.\n",
    "    I was told to instead use indexing to draw, instead of modifying the list\n",
    "    \"\"\"\n",
    "    hand = [] \n",
    "    for i in range(5): \n",
    "        hand.append(deck.pop())\n",
    "    return hand"
   ]
  },
  {
   "cell_type": "code",
   "execution_count": 121,
   "metadata": {},
   "outputs": [],
   "source": [
    "theDeck = createDeck()\n",
    "theHand = dealHand(theDeck)\n",
    "theDraw = dealDraw(theDeck)\n",
    "# print(len(theDeck))"
   ]
  },
  {
   "cell_type": "code",
   "execution_count": 122,
   "metadata": {},
   "outputs": [
    {
     "name": "stdout",
     "output_type": "stream",
     "text": [
      "Eternal Witness, Forests, Primal Command, Root Maze, Forests, Creeping Mold, Bramblecrush\n"
     ]
    }
   ],
   "source": [
    "print(', '.join(theHand))"
   ]
  },
  {
   "cell_type": "code",
   "execution_count": 123,
   "metadata": {},
   "outputs": [
    {
     "name": "stdout",
     "output_type": "stream",
     "text": [
      "Elvish Mystic, Forests, Forests, Overgrowth, Forests\n"
     ]
    }
   ],
   "source": [
    "print(', '.join(theDraw))"
   ]
  },
  {
   "cell_type": "code",
   "execution_count": null,
   "metadata": {},
   "outputs": [],
   "source": []
  }
 ],
 "metadata": {
  "kernelspec": {
   "display_name": "Python 3",
   "language": "python",
   "name": "python3"
  },
  "language_info": {
   "codemirror_mode": {
    "name": "ipython",
    "version": 3
   },
   "file_extension": ".py",
   "mimetype": "text/x-python",
   "name": "python",
   "nbconvert_exporter": "python",
   "pygments_lexer": "ipython3",
   "version": "3.6.9"
  }
 },
 "nbformat": 4,
 "nbformat_minor": 2
}
